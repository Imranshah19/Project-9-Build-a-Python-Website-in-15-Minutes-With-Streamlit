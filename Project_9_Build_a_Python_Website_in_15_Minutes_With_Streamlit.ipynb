{
  "nbformat": 4,
  "nbformat_minor": 0,
  "metadata": {
    "colab": {
      "provenance": [],
      "authorship_tag": "ABX9TyOGwb3qqrt+kdKGZyJr6AqF",
      "include_colab_link": true
    },
    "kernelspec": {
      "name": "python3",
      "display_name": "Python 3"
    },
    "language_info": {
      "name": "python"
    }
  },
  "cells": [
    {
      "cell_type": "markdown",
      "metadata": {
        "id": "view-in-github",
        "colab_type": "text"
      },
      "source": [
        "<a href=\"https://colab.research.google.com/github/Imranshah19/Project-9-Build-a-Python-Website-in-15-Minutes-With-Streamlit/blob/main/Project_9_Build_a_Python_Website_in_15_Minutes_With_Streamlit.ipynb\" target=\"_parent\"><img src=\"https://colab.research.google.com/assets/colab-badge.svg\" alt=\"Open In Colab\"/></a>"
      ]
    },
    {
      "cell_type": "code",
      "execution_count": null,
      "metadata": {
        "id": "UnYmld8CdRlI"
      },
      "outputs": [],
      "source": [
        "import sqlite3\n",
        "import pandas as pd\n",
        "import streamlit as st\n",
        "\n",
        "# Database Functions\n",
        "def create_table():\n",
        "    conn = sqlite3.connect(\"user_data.db\")\n",
        "    c = conn.cursor()\n",
        "    c.execute(\"CREATE TABLE IF NOT EXISTS users(id INTEGER PRIMARY KEY AUTOINCREMENT, name TEXT, age INTEGER, email TEXT)\")\n",
        "    conn.commit()\n",
        "    conn.close()\n",
        "\n",
        "def add_user(name, age, email):\n",
        "    conn = sqlite3.connect(\"user_data.db\")\n",
        "    c = conn.cursor()\n",
        "    c.execute(\"INSERT INTO users(name, age, email) VALUES (?, ?, ?)\", (name, age, email))\n",
        "    conn.commit()\n",
        "    conn.close()\n",
        "\n",
        "def get_users():\n",
        "    conn = sqlite3.connect(\"user_data.db\")\n",
        "    c = conn.cursor()\n",
        "    c.execute(\"SELECT * FROM users\")\n",
        "    data = c.fetchall()\n",
        "    conn.close()\n",
        "    return data\n",
        "\n",
        "def delete_user(user_id):\n",
        "    conn = sqlite3.connect(\"user_data.db\")\n",
        "    c = conn.cursor()\n",
        "    c.execute(\"DELETE FROM users WHERE id=?\", (user_id,))\n",
        "    conn.commit()\n",
        "    conn.close()\n",
        "\n",
        "# Streamlit UI\n",
        "st.title(\"User Data Dashboard\")\n",
        "\n",
        "menu = [\"Add User\", \"View Users\", \"Delete User\"]\n",
        "choice = st.sidebar.selectbox(\"Menu\", menu)\n",
        "\n",
        "create_table()\n",
        "\n",
        "if choice == \"Add User\":\n",
        "    st.subheader(\"Add New User\")\n",
        "    name = st.text_input(\"Name\")\n",
        "    age = st.number_input(\"Age\", min_value=1, max_value=100, step=1)\n",
        "    email = st.text_input(\"Email\")\n",
        "\n",
        "    if st.button(\"Add User\"):\n",
        "        add_user(name, age, email)\n",
        "        st.success(f\"Added {name} to Database\")\n",
        "\n",
        "elif choice == \"View Users\":\n",
        "    st.subheader(\"User List\")\n",
        "    users = get_users()\n",
        "    df = pd.DataFrame(users, columns=[\"ID\", \"Name\", \"Age\", \"Email\"])\n",
        "    st.dataframe(df)\n",
        "\n",
        "elif choice == \"Delete User\":\n",
        "    st.subheader(\"Delete a User\")\n",
        "    users = get_users()\n",
        "    user_dict = {f\"{user[1]} ({user[0]})\": user[0] for user in users}\n",
        "    selected_user = st.selectbox(\"Select User to Delete\", list(user_dict.keys()))\n",
        "\n",
        "    if st.button(\"Delete User\"):\n",
        "        delete_user(user_dict[selected_user])\n",
        "        st.warning(f\"Deleted User: {selected_user}\")\n"
      ]
    }
  ]
}